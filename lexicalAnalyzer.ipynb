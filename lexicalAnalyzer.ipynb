{
 "cells": [
  {
   "cell_type": "code",
   "execution_count": 42,
   "id": "bf723050-0c3e-4812-85de-8dd02cf57853",
   "metadata": {},
   "outputs": [
    {
     "name": "stdout",
     "output_type": "stream",
     "text": [
      "Enter an expression:  int x = a+b;\n"
     ]
    },
    {
     "name": "stdout",
     "output_type": "stream",
     "text": [
      "For Expression \"int x = a+b;\":\n",
      "Token: int, Type: Keyword\n",
      "Token: x, Type: Identifier\n",
      "Token: =, Type: Operator\n",
      "Token: a, Type: Identifier\n",
      "Token: +, Type: Operator\n",
      "Token: b, Type: Identifier\n",
      "Token: ;, Type: Delimiter\n"
     ]
    }
   ],
   "source": [
    "import re\n",
    "\n",
    "def lexicalAnalyzer(input_string):\n",
    "    operator_pattern = r'[+\\-*/%,><=]'\n",
    "    delimiter_pattern = r'[();{}\\[\\]]'\n",
    "    integer_pattern = r'\\b[0-9]+\\b'\n",
    "    keyword_pattern = r'\\b(?:auto|break|case|char|const|continue|default|do|double|else|enum|extern|float|for|goto|if|int|long|register|return|short|signed|sizeof|static|struct|switch|typedef|union|unsigned|void|volatile|while)\\b'\n",
    "    identifier_pattern = r'\\b[a-zA-Z_]\\w*\\b'\n",
    "    \n",
    "    combined_pattern = f'{operator_pattern}|{delimiter_pattern}|{integer_pattern}|{keyword_pattern}|{identifier_pattern}|\\\\s+'\n",
    "\n",
    "    tokens = re.findall(combined_pattern, input_string)\n",
    "\n",
    "    for token in tokens:\n",
    "        if token.isspace():\n",
    "            continue\n",
    "\n",
    "        token_type = (\n",
    "            \"Operator\" if re.match(operator_pattern, token) else\n",
    "            \"Delimiter\" if re.match(delimiter_pattern, token) else\n",
    "            \"Integer\" if re.match(integer_pattern, token) else\n",
    "            \"Keyword\" if re.match(keyword_pattern, token) else\n",
    "            \"Identifier\" if re.match(identifier_pattern, token) and not re.match(keyword_pattern, token) else\n",
    "            \"Unidentified\" if not any(re.match(pattern, token) for pattern in [operator_pattern, delimiter_pattern, integer_pattern, keyword_pattern, identifier_pattern]) else\n",
    "            None\n",
    "        )\n",
    "        \n",
    "        if token_type is not None:\n",
    "            print(f\"Token: {token}, Type: {token_type}\")\n",
    "\n",
    "if __name__ == \"__main__\":\n",
    "    user_input = input(\"Enter an expression: \")\n",
    "    print(f\"For Expression \\\"{user_input}\\\":\")\n",
    "    lexicalAnalyzer(user_input)\n"
   ]
  }
 ],
 "metadata": {
  "kernelspec": {
   "display_name": "Python 3 (ipykernel)",
   "language": "python",
   "name": "python3"
  },
  "language_info": {
   "codemirror_mode": {
    "name": "ipython",
    "version": 3
   },
   "file_extension": ".py",
   "mimetype": "text/x-python",
   "name": "python",
   "nbconvert_exporter": "python",
   "pygments_lexer": "ipython3",
   "version": "3.10.9"
  }
 },
 "nbformat": 4,
 "nbformat_minor": 5
}
